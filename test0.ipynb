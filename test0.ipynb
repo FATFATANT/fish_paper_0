{
 "cells": [
  {
   "cell_type": "code",
   "execution_count": 1,
   "metadata": {
    "collapsed": true
   },
   "outputs": [],
   "source": [
    "import pandas as pd"
   ]
  },
  {
   "cell_type": "code",
   "execution_count": 4,
   "outputs": [],
   "source": [
    "a = pd.read_csv('data/NYC/NYC_train.csv')"
   ],
   "metadata": {
    "collapsed": false
   }
  },
  {
   "cell_type": "code",
   "execution_count": 5,
   "outputs": [
    {
     "data": {
      "text/plain": "       user_id                    POI_id                 POI_catid  \\\n0          470  49bbd6c0f964a520f4531fe3  4bf58dd8d48988d127951735   \n1          979  4a43c0aef964a520c6a61fe3  4bf58dd8d48988d1df941735   \n2           69  4c5cc7b485a1e21e00d35711  4bf58dd8d48988d103941735   \n3          428  4ce1863bc4f6a35d8bd2db6c  4bf58dd8d48988d103941735   \n4          116  4c0ab56f7e3fc9288c1df482  4f04afc02fb6e1c99f3db0bc   \n...        ...                       ...                       ...   \n83223      529  50170a53e4b07ac9f310b944  4bf58dd8d48988d1e0931735   \n83224      354  4a9fc4fbf964a520493d20e3  4bf58dd8d48988d129951735   \n83225      472  4d056fc57d9ba35d1c446b23  4bf58dd8d48988d130941735   \n83226      280  4ae1f681f964a520318921e3  4bf58dd8d48988d103951735   \n83227       84  4a43bd40f964a520bfa61fe3  4bf58dd8d48988d1df941735   \n\n       POI_catid_code          POI_catname   latitude  longitude  timezone  \\\n0                  75  Arts & Crafts Store  40.719810 -74.002581      -240   \n1                 252               Bridge  40.606800 -74.044170      -240   \n2                   6       Home (private)  40.716162 -73.883070      -240   \n3                   6       Home (private)  40.619151 -74.035888      -240   \n4                 362    Mobile Phone Shop  40.741191 -73.989663      -240   \n...               ...                  ...        ...        ...       ...   \n83223             253          Coffee Shop  40.709272 -74.005450      -300   \n83224              79        Train Station  40.747582 -74.171888      -300   \n83225              91             Building  40.760184 -73.969324      -300   \n83226               7       Clothing Store  40.753716 -73.980947      -300   \n83227             252               Bridge  40.756734 -73.954457      -300   \n\n                        UTC_time                 local_time  day_of_week  \\\n0      2012-04-03 18:00:09+00:00  2012-04-03 14:00:09+00:00            1   \n1      2012-04-03 18:00:25+00:00  2012-04-03 14:00:25+00:00            1   \n2      2012-04-03 18:02:24+00:00  2012-04-03 14:02:24+00:00            1   \n3      2012-04-03 18:06:18+00:00  2012-04-03 14:06:18+00:00            1   \n4      2012-04-03 18:09:29+00:00  2012-04-03 14:09:29+00:00            1   \n...                          ...                        ...          ...   \n83223  2012-11-09 20:45:40+00:00  2012-11-09 15:45:40+00:00            4   \n83224  2012-11-09 20:57:51+00:00  2012-11-09 15:57:51+00:00            4   \n83225  2012-11-09 21:04:32+00:00  2012-11-09 16:04:32+00:00            4   \n83226  2012-11-09 21:11:40+00:00  2012-11-09 16:11:40+00:00            4   \n83227  2012-11-09 21:38:31+00:00  2012-11-09 16:38:31+00:00            4   \n\n       norm_in_day_time trajectory_id  norm_day_shift  norm_relative_time  \n0              0.583333         470_1               0            0.583333  \n1              0.583333         979_1               0            0.583333  \n2              0.583333          69_1               0            0.583333  \n3              0.583333         428_1               0            0.583333  \n4              0.583333         116_1               0            0.583333  \n...                 ...           ...             ...                 ...  \n83223          0.645833        529_56               0            0.645833  \n83224          0.645833        354_39               0            0.645833  \n83225          0.666667        472_40               0            0.666667  \n83226          0.666667        280_51               0            0.666667  \n83227          0.687500         84_24               4            4.687500  \n\n[83228 rows x 15 columns]",
      "text/html": "<div>\n<style scoped>\n    .dataframe tbody tr th:only-of-type {\n        vertical-align: middle;\n    }\n\n    .dataframe tbody tr th {\n        vertical-align: top;\n    }\n\n    .dataframe thead th {\n        text-align: right;\n    }\n</style>\n<table border=\"1\" class=\"dataframe\">\n  <thead>\n    <tr style=\"text-align: right;\">\n      <th></th>\n      <th>user_id</th>\n      <th>POI_id</th>\n      <th>POI_catid</th>\n      <th>POI_catid_code</th>\n      <th>POI_catname</th>\n      <th>latitude</th>\n      <th>longitude</th>\n      <th>timezone</th>\n      <th>UTC_time</th>\n      <th>local_time</th>\n      <th>day_of_week</th>\n      <th>norm_in_day_time</th>\n      <th>trajectory_id</th>\n      <th>norm_day_shift</th>\n      <th>norm_relative_time</th>\n    </tr>\n  </thead>\n  <tbody>\n    <tr>\n      <th>0</th>\n      <td>470</td>\n      <td>49bbd6c0f964a520f4531fe3</td>\n      <td>4bf58dd8d48988d127951735</td>\n      <td>75</td>\n      <td>Arts &amp; Crafts Store</td>\n      <td>40.719810</td>\n      <td>-74.002581</td>\n      <td>-240</td>\n      <td>2012-04-03 18:00:09+00:00</td>\n      <td>2012-04-03 14:00:09+00:00</td>\n      <td>1</td>\n      <td>0.583333</td>\n      <td>470_1</td>\n      <td>0</td>\n      <td>0.583333</td>\n    </tr>\n    <tr>\n      <th>1</th>\n      <td>979</td>\n      <td>4a43c0aef964a520c6a61fe3</td>\n      <td>4bf58dd8d48988d1df941735</td>\n      <td>252</td>\n      <td>Bridge</td>\n      <td>40.606800</td>\n      <td>-74.044170</td>\n      <td>-240</td>\n      <td>2012-04-03 18:00:25+00:00</td>\n      <td>2012-04-03 14:00:25+00:00</td>\n      <td>1</td>\n      <td>0.583333</td>\n      <td>979_1</td>\n      <td>0</td>\n      <td>0.583333</td>\n    </tr>\n    <tr>\n      <th>2</th>\n      <td>69</td>\n      <td>4c5cc7b485a1e21e00d35711</td>\n      <td>4bf58dd8d48988d103941735</td>\n      <td>6</td>\n      <td>Home (private)</td>\n      <td>40.716162</td>\n      <td>-73.883070</td>\n      <td>-240</td>\n      <td>2012-04-03 18:02:24+00:00</td>\n      <td>2012-04-03 14:02:24+00:00</td>\n      <td>1</td>\n      <td>0.583333</td>\n      <td>69_1</td>\n      <td>0</td>\n      <td>0.583333</td>\n    </tr>\n    <tr>\n      <th>3</th>\n      <td>428</td>\n      <td>4ce1863bc4f6a35d8bd2db6c</td>\n      <td>4bf58dd8d48988d103941735</td>\n      <td>6</td>\n      <td>Home (private)</td>\n      <td>40.619151</td>\n      <td>-74.035888</td>\n      <td>-240</td>\n      <td>2012-04-03 18:06:18+00:00</td>\n      <td>2012-04-03 14:06:18+00:00</td>\n      <td>1</td>\n      <td>0.583333</td>\n      <td>428_1</td>\n      <td>0</td>\n      <td>0.583333</td>\n    </tr>\n    <tr>\n      <th>4</th>\n      <td>116</td>\n      <td>4c0ab56f7e3fc9288c1df482</td>\n      <td>4f04afc02fb6e1c99f3db0bc</td>\n      <td>362</td>\n      <td>Mobile Phone Shop</td>\n      <td>40.741191</td>\n      <td>-73.989663</td>\n      <td>-240</td>\n      <td>2012-04-03 18:09:29+00:00</td>\n      <td>2012-04-03 14:09:29+00:00</td>\n      <td>1</td>\n      <td>0.583333</td>\n      <td>116_1</td>\n      <td>0</td>\n      <td>0.583333</td>\n    </tr>\n    <tr>\n      <th>...</th>\n      <td>...</td>\n      <td>...</td>\n      <td>...</td>\n      <td>...</td>\n      <td>...</td>\n      <td>...</td>\n      <td>...</td>\n      <td>...</td>\n      <td>...</td>\n      <td>...</td>\n      <td>...</td>\n      <td>...</td>\n      <td>...</td>\n      <td>...</td>\n      <td>...</td>\n    </tr>\n    <tr>\n      <th>83223</th>\n      <td>529</td>\n      <td>50170a53e4b07ac9f310b944</td>\n      <td>4bf58dd8d48988d1e0931735</td>\n      <td>253</td>\n      <td>Coffee Shop</td>\n      <td>40.709272</td>\n      <td>-74.005450</td>\n      <td>-300</td>\n      <td>2012-11-09 20:45:40+00:00</td>\n      <td>2012-11-09 15:45:40+00:00</td>\n      <td>4</td>\n      <td>0.645833</td>\n      <td>529_56</td>\n      <td>0</td>\n      <td>0.645833</td>\n    </tr>\n    <tr>\n      <th>83224</th>\n      <td>354</td>\n      <td>4a9fc4fbf964a520493d20e3</td>\n      <td>4bf58dd8d48988d129951735</td>\n      <td>79</td>\n      <td>Train Station</td>\n      <td>40.747582</td>\n      <td>-74.171888</td>\n      <td>-300</td>\n      <td>2012-11-09 20:57:51+00:00</td>\n      <td>2012-11-09 15:57:51+00:00</td>\n      <td>4</td>\n      <td>0.645833</td>\n      <td>354_39</td>\n      <td>0</td>\n      <td>0.645833</td>\n    </tr>\n    <tr>\n      <th>83225</th>\n      <td>472</td>\n      <td>4d056fc57d9ba35d1c446b23</td>\n      <td>4bf58dd8d48988d130941735</td>\n      <td>91</td>\n      <td>Building</td>\n      <td>40.760184</td>\n      <td>-73.969324</td>\n      <td>-300</td>\n      <td>2012-11-09 21:04:32+00:00</td>\n      <td>2012-11-09 16:04:32+00:00</td>\n      <td>4</td>\n      <td>0.666667</td>\n      <td>472_40</td>\n      <td>0</td>\n      <td>0.666667</td>\n    </tr>\n    <tr>\n      <th>83226</th>\n      <td>280</td>\n      <td>4ae1f681f964a520318921e3</td>\n      <td>4bf58dd8d48988d103951735</td>\n      <td>7</td>\n      <td>Clothing Store</td>\n      <td>40.753716</td>\n      <td>-73.980947</td>\n      <td>-300</td>\n      <td>2012-11-09 21:11:40+00:00</td>\n      <td>2012-11-09 16:11:40+00:00</td>\n      <td>4</td>\n      <td>0.666667</td>\n      <td>280_51</td>\n      <td>0</td>\n      <td>0.666667</td>\n    </tr>\n    <tr>\n      <th>83227</th>\n      <td>84</td>\n      <td>4a43bd40f964a520bfa61fe3</td>\n      <td>4bf58dd8d48988d1df941735</td>\n      <td>252</td>\n      <td>Bridge</td>\n      <td>40.756734</td>\n      <td>-73.954457</td>\n      <td>-300</td>\n      <td>2012-11-09 21:38:31+00:00</td>\n      <td>2012-11-09 16:38:31+00:00</td>\n      <td>4</td>\n      <td>0.687500</td>\n      <td>84_24</td>\n      <td>4</td>\n      <td>4.687500</td>\n    </tr>\n  </tbody>\n</table>\n<p>83228 rows × 15 columns</p>\n</div>"
     },
     "execution_count": 5,
     "metadata": {},
     "output_type": "execute_result"
    }
   ],
   "source": [
    "a"
   ],
   "metadata": {
    "collapsed": false
   }
  },
  {
   "cell_type": "code",
   "execution_count": 7,
   "outputs": [
    {
     "data": {
      "text/plain": "array([ 0,  1,  2,  3,  4,  5,  6,  7,  8,  9, 10, 11, 12, 13, 14, 15, 16,\n       17, 18, 19, 20, 21, 22, 23], dtype=int64)"
     },
     "execution_count": 7,
     "metadata": {},
     "output_type": "execute_result"
    }
   ],
   "source": [
    "a['norm_day_shift'].unique()"
   ],
   "metadata": {
    "collapsed": false
   }
  },
  {
   "cell_type": "code",
   "execution_count": 10,
   "outputs": [
    {
     "data": {
      "text/plain": "array([ 3,  4,  5,  6,  7,  8,  9, 10, 11, 12, 13, 14, 15, 16, 17, 18, 19,\n       20, 21, 22, 23, 24, 25, 26, 27, 28, 29,  1,  2, 30, 31],\n      dtype=int64)"
     },
     "execution_count": 10,
     "metadata": {},
     "output_type": "execute_result"
    }
   ],
   "source": [
    "pd.to_datetime(a['UTC_time']).dt.day.unique()"
   ],
   "metadata": {
    "collapsed": false
   }
  },
  {
   "cell_type": "code",
   "execution_count": 11,
   "outputs": [],
   "source": [
    "import networkx as nx\n",
    "G = nx.DiGraph()\n",
    "for i in range(10):\n",
    "    G.add_node(i)"
   ],
   "metadata": {
    "collapsed": false
   }
  },
  {
   "cell_type": "code",
   "execution_count": 12,
   "outputs": [],
   "source": [
    "G.add_edge(0,1)"
   ],
   "metadata": {
    "collapsed": false
   }
  },
  {
   "cell_type": "code",
   "execution_count": 14,
   "outputs": [
    {
     "name": "stderr",
     "output_type": "stream",
     "text": [
      "C:\\Users\\fatant\\AppData\\Local\\Temp\\ipykernel_28188\\283843670.py:1: FutureWarning: adjacency_matrix will return a scipy.sparse array instead of a matrix in Networkx 3.0.\n",
      "  nx.adjacency_matrix(G, nodelist=G.nodes).todense()\n"
     ]
    },
    {
     "data": {
      "text/plain": "matrix([[0, 1, 0, 0, 0, 0, 0, 0, 0, 0],\n        [0, 0, 0, 0, 0, 0, 0, 0, 0, 0],\n        [0, 0, 0, 0, 0, 0, 0, 0, 0, 0],\n        [0, 0, 0, 0, 0, 0, 0, 0, 0, 0],\n        [0, 0, 0, 0, 0, 0, 0, 0, 0, 0],\n        [0, 0, 0, 0, 0, 0, 0, 0, 0, 0],\n        [0, 0, 0, 0, 0, 0, 0, 0, 0, 0],\n        [0, 0, 0, 0, 0, 0, 0, 0, 0, 0],\n        [0, 0, 0, 0, 0, 0, 0, 0, 0, 0],\n        [0, 0, 0, 0, 0, 0, 0, 0, 0, 0]], dtype=int32)"
     },
     "execution_count": 14,
     "metadata": {},
     "output_type": "execute_result"
    }
   ],
   "source": [
    "nx.adjacency_matrix(G, nodelist=G.nodes).todense()"
   ],
   "metadata": {
    "collapsed": false
   }
  },
  {
   "cell_type": "code",
   "execution_count": 15,
   "outputs": [
    {
     "name": "stderr",
     "output_type": "stream",
     "text": [
      "C:\\Users\\fatant\\AppData\\Local\\Temp\\ipykernel_28188\\3321673953.py:5: FutureWarning: adjacency_matrix will return a scipy.sparse array instead of a matrix in Networkx 3.0.\n",
      "  nx.adjacency_matrix(bg, nodelist=bg.nodes).todense()\n"
     ]
    },
    {
     "data": {
      "text/plain": "matrix([[0, 1, 0, 0, 0, 0, 0, 0, 0, 0],\n        [1, 0, 0, 0, 0, 0, 0, 0, 0, 0],\n        [0, 0, 0, 0, 0, 0, 0, 0, 0, 0],\n        [0, 0, 0, 0, 0, 0, 0, 0, 0, 0],\n        [0, 0, 0, 0, 0, 0, 0, 0, 0, 0],\n        [0, 0, 0, 0, 0, 0, 0, 0, 0, 0],\n        [0, 0, 0, 0, 0, 0, 0, 0, 0, 0],\n        [0, 0, 0, 0, 0, 0, 0, 0, 0, 0],\n        [0, 0, 0, 0, 0, 0, 0, 0, 0, 0],\n        [0, 0, 0, 0, 0, 0, 0, 0, 0, 0]], dtype=int32)"
     },
     "execution_count": 15,
     "metadata": {},
     "output_type": "execute_result"
    }
   ],
   "source": [
    "bg = nx.Graph()\n",
    "for i in range(10):\n",
    "    bg.add_node(i)\n",
    "bg.add_edge(0,1)\n",
    "nx.adjacency_matrix(bg, nodelist=bg.nodes).todense()"
   ],
   "metadata": {
    "collapsed": false
   }
  },
  {
   "cell_type": "code",
   "execution_count": null,
   "outputs": [],
   "source": [],
   "metadata": {
    "collapsed": false
   }
  }
 ],
 "metadata": {
  "kernelspec": {
   "name": "d2l",
   "language": "python",
   "display_name": "d2l"
  },
  "language_info": {
   "codemirror_mode": {
    "name": "ipython",
    "version": 2
   },
   "file_extension": ".py",
   "mimetype": "text/x-python",
   "name": "python",
   "nbconvert_exporter": "python",
   "pygments_lexer": "ipython2",
   "version": "2.7.6"
  }
 },
 "nbformat": 4,
 "nbformat_minor": 0
}
